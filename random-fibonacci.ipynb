{
 "cells": [
  {
   "cell_type": "code",
   "execution_count": 1,
   "metadata": {},
   "outputs": [],
   "source": [
    "import recurrence"
   ]
  },
  {
   "cell_type": "markdown",
   "metadata": {},
   "source": [
    "# Random Fibonacci\n",
    "\n",
    "This is a project based on [the youtube video on the same topic](https://www.youtube.com/watch?v=ELA8gNNMHoU).\n",
    "\n",
    "## The Original Fibonacci\n",
    "\n",
    "The fibonacci sequence is a sequence of integers F where:\n",
    "\n",
    "- F<sub>0</sub> = F<sub>1</sub> = 1.\n",
    "- F<sub>n</sub> = F<sub>n - 1</sub> + F<sub>n - 2</sub> for n ≥ 2.\n"
   ]
  },
  {
   "cell_type": "code",
   "execution_count": 2,
   "metadata": {},
   "outputs": [],
   "source": [
    "def fibonacciRelation(fibonacci, n):\n",
    "    return fibonacci[n - 1] + fibonacci[n - 2]\n",
    "\n",
    "fibonacci = recurrence.Relation(fibonacciRelation, [1, 1], 'the fibonacci sequence')"
   ]
  },
  {
   "cell_type": "code",
   "execution_count": 3,
   "metadata": {
    "scrolled": true
   },
   "outputs": [
    {
     "name": "stdout",
     "output_type": "stream",
     "text": [
      "The first 20 numbers of the fibonacci sequence are:\n",
      "1, 1, 2, 3, 5, 8, 13, 21, 34, 55, 89, 144, 233, 377, 610, 987, 1597, 2584, 4181, and 6765.\n"
     ]
    }
   ],
   "source": [
    "fibonacci.printFirst(20)"
   ]
  },
  {
   "cell_type": "markdown",
   "metadata": {},
   "source": [
    "## Subtraction\n",
    "\n",
    "Instead of always adding the (n - 2)<sup>th</sup> to the (n - 1)<sup>th</sup> value, we could subtract it instead."
   ]
  },
  {
   "cell_type": "code",
   "execution_count": 4,
   "metadata": {},
   "outputs": [],
   "source": [
    "def subtraction(subtract, n):\n",
    "    return subtract[n - 1] - subtract[n - 2]\n",
    "\n",
    "subtract = recurrence.Relation(subtraction, [1, 1], 'the subtraction sequence')"
   ]
  },
  {
   "cell_type": "code",
   "execution_count": 5,
   "metadata": {
    "scrolled": true
   },
   "outputs": [
    {
     "name": "stdout",
     "output_type": "stream",
     "text": [
      "The first 20 numbers of the subtraction sequence are:\n",
      "1, 1, 0, -1, -1, 0, 1, 1, 0, -1, -1, 0, 1, 1, 0, -1, -1, 0, 1, and 1.\n"
     ]
    }
   ],
   "source": [
    "subtract.printFirst(20)"
   ]
  },
  {
   "cell_type": "markdown",
   "metadata": {},
   "source": [
    "You may notice that the 7<sup>th</sup> and 8<sup>th</sup> values are equal to the 1<sup>st</sup> and 2<sup>nd</sup> values; since the next value of the sequence only depends on the two previous, this is enough for us to simplify our definition:"
   ]
  },
  {
   "cell_type": "code",
   "execution_count": 6,
   "metadata": {},
   "outputs": [],
   "source": [
    "def subtraction(n):\n",
    "    \"\"\"A definition of our subtraction relation without recurrence\"\"\"\n",
    "    gimme = n % 6\n",
    "    if gimme == 0 or gimme == 1:\n",
    "        return 1\n",
    "    elif gimme == 3 or gimme == 4:\n",
    "        return -1\n",
    "    return 0"
   ]
  },
  {
   "cell_type": "markdown",
   "metadata": {},
   "source": [
    "## Alternation\n",
    "\n",
    "We could have a pattern of add or subtract, alternating between them each time:"
   ]
  },
  {
   "cell_type": "code",
   "execution_count": 7,
   "metadata": {},
   "outputs": [],
   "source": [
    "def alternation(alternate, n):\n",
    "    if n % 2 == 1:\n",
    "        return alternate[n - 1] + alternate[n - 2]\n",
    "    else:\n",
    "        return alternate[n - 1] - alternate[n - 2]\n",
    "\n",
    "alternate = recurrence.Relation(alternation, [1, 1], 'the alternation sequence')"
   ]
  },
  {
   "cell_type": "code",
   "execution_count": 8,
   "metadata": {},
   "outputs": [
    {
     "name": "stdout",
     "output_type": "stream",
     "text": [
      "The first 20 numbers of the alternation sequence are:\n",
      "1, 1, 0, 1, 1, 2, 1, 3, 2, 5, 3, 8, 5, 13, 8, 21, 13, 34, 21, and 55.\n"
     ]
    }
   ],
   "source": [
    "alternate.printFirst(20)"
   ]
  },
  {
   "cell_type": "markdown",
   "metadata": {},
   "source": [
    "## Other patterns\n",
    "\n",
    "There are infinitely many patterns of adding and subtracting we could do; and each would coresspond to a binary sequence β (a sequence where each β<sub>n</sub> is one of two possible values - usually 0 or 1).\n",
    "\n",
    "We have some binary sequences here:"
   ]
  },
  {
   "cell_type": "code",
   "execution_count": 9,
   "metadata": {},
   "outputs": [],
   "source": [
    "# All the following methods define binary sequences\n",
    "\n",
    "def allOnes(n):\n",
    "    \"\"\"a binary sequence of all ones\"\"\"\n",
    "    return 1\n",
    "\n",
    "def allZeros(n):\n",
    "    \"\"\"a binary sequence of all zeros\"\"\"\n",
    "    return 0\n",
    "\n",
    "def oneZero(n):\n",
    "    \"\"\"a binary sequence alternating between zero and one\"\"\"\n",
    "    return n % 2\n",
    "\n",
    "def oneOneZero(n):\n",
    "    \"\"\"a binary sequence which repeats 0, 0, 1\"\"\"\n",
    "    if n % 3 == 2:\n",
    "        return 0\n",
    "    return 1\n",
    "\n",
    "def oneHundredOnesThenZero(n):\n",
    "    \"\"\"a binary sequence of one hundred ones followed by all zeros\"\"\"\n",
    "    if n < 100:\n",
    "        return 1\n",
    "    return 0"
   ]
  },
  {
   "cell_type": "markdown",
   "metadata": {},
   "source": [
    "And we can then use these binary sequences to define a special type of sequence, like fibonacci, that will add the previous values if the binary sequence is a 1 and subtract them otherwise. \n",
    "\n",
    "The binary sequence of all ones will just give us our original fibonacci.\n",
    "\n",
    "The sequence of all zeros will give us the subtraction series."
   ]
  },
  {
   "cell_type": "code",
   "execution_count": 10,
   "metadata": {},
   "outputs": [],
   "source": [
    "def relationFromBinary(binary):\n",
    "    def relation(sequence, n):\n",
    "        if binary(n) == 1:\n",
    "            return sequence[n - 1] + sequence[n - 2]\n",
    "        else:\n",
    "            return sequence[n - 1] - sequence[n - 2]\n",
    "    return relation"
   ]
  },
  {
   "cell_type": "code",
   "execution_count": 11,
   "metadata": {},
   "outputs": [],
   "source": [
    "# the original fibonacci\n",
    "# fibonacciFromBinary = recurrence.Relation(relationFromBinary(allOnes), [1, 1])"
   ]
  },
  {
   "cell_type": "code",
   "execution_count": 12,
   "metadata": {},
   "outputs": [],
   "source": [
    "# the subtract sequence\n",
    "# subtractFromBinary = recurrence.Relation(relationFromBinary(allZeros), [1, 1])"
   ]
  },
  {
   "cell_type": "code",
   "execution_count": 13,
   "metadata": {},
   "outputs": [],
   "source": [
    "# the alternating sequence\n",
    "# alternateFromBinary = recurrence.Relation(relationFromBinary(oneZero), [1, 1])"
   ]
  },
  {
   "cell_type": "code",
   "execution_count": 14,
   "metadata": {},
   "outputs": [],
   "source": [
    "# a special combination sequence defined by the xor of two other sequences\n",
    "def specialBinary(n):\n",
    "    return oneZero(n) ^ oneOneZero(n)\n",
    "specialFromBinary = recurrence.Relation(relationFromBinary(specialBinary), [1, 1], 'a special fibonacci sequence')"
   ]
  },
  {
   "cell_type": "code",
   "execution_count": 15,
   "metadata": {},
   "outputs": [
    {
     "name": "stdout",
     "output_type": "stream",
     "text": [
      "The first 20 numbers of a special fibonacci sequence are:\n",
      "1, 1, 0, -1, -1, -2, -3, -1, 2, 3, 5, 8, 13, 5, -8, -13, -21, -34, -55, and -21.\n"
     ]
    }
   ],
   "source": [
    "specialFromBinary.printFirst(20)"
   ]
  },
  {
   "cell_type": "markdown",
   "metadata": {},
   "source": [
    "## Somthing New\n",
    "\n",
    "One thing that all of these sequences have in common is that they are deterministic: They are well defined and will be the same every time they are calculated.\n",
    "\n",
    "The process of flipping a coin will generate a sequence of heads and tails. "
   ]
  },
  {
   "cell_type": "code",
   "execution_count": 16,
   "metadata": {},
   "outputs": [],
   "source": [
    "from coinflip import coinflip"
   ]
  },
  {
   "cell_type": "code",
   "execution_count": 17,
   "metadata": {},
   "outputs": [
    {
     "name": "stdout",
     "output_type": "stream",
     "text": [
      "Simulating a 10 coinflips yields tails, heads, tails, heads, tails, heads, heads, heads, tails, tails."
     ]
    }
   ],
   "source": [
    "print('Simulating a 10 coinflips yields', ', '.join(coinflip() for i in range(10)), end='.')"
   ]
  },
  {
   "cell_type": "markdown",
   "metadata": {},
   "source": [
    "We can easily construct a binary sequence from a sequence of coinflips, for example if we let heads be one and tails be zero, then we can generate a random binary sequence."
   ]
  },
  {
   "cell_type": "code",
   "execution_count": 18,
   "metadata": {},
   "outputs": [
    {
     "name": "stdout",
     "output_type": "stream",
     "text": [
      "A random binary sequence:\n",
      "0000110101100110011111111001011100010010100101110001100100011100101110001000111000001011110011110110...\n"
     ]
    }
   ],
   "source": [
    "print('A random binary sequence:')\n",
    "print(''.join([('1' if coinflip() == 'heads' else '0') for i in range(100)]), end='...\\n')"
   ]
  },
  {
   "cell_type": "markdown",
   "metadata": {},
   "source": [
    "We can use the random binary sequence to generate a random fibonacci!\n",
    "\n",
    "<i>**NOTE:** You will have to rerun both blocks to get a different random fibonacci sequence</i>"
   ]
  },
  {
   "cell_type": "code",
   "execution_count": 19,
   "metadata": {},
   "outputs": [],
   "source": [
    "def randomBinary(n):\n",
    "    return 1 if coinflip() == 'heads' else 0\n",
    "\n",
    "randomFibonacci = recurrence.Relation(relationFromBinary(randomBinary), [1, 1])"
   ]
  },
  {
   "cell_type": "code",
   "execution_count": 20,
   "metadata": {},
   "outputs": [
    {
     "name": "stdout",
     "output_type": "stream",
     "text": [
      "The first 20 numbers  are:\n",
      "1, 1, 2, 1, 3, 4, 7, 3, -4, -7, -11, -4, -15, -11, -26, -15, -41, -56, -15, and -71.\n"
     ]
    }
   ],
   "source": [
    "randomFibonacci.printFirst(20)"
   ]
  }
 ],
 "metadata": {
  "kernelspec": {
   "display_name": "Python 3",
   "language": "python",
   "name": "python3"
  },
  "language_info": {
   "codemirror_mode": {
    "name": "ipython",
    "version": 3
   },
   "file_extension": ".py",
   "mimetype": "text/x-python",
   "name": "python",
   "nbconvert_exporter": "python",
   "pygments_lexer": "ipython3",
   "version": "3.7.3"
  }
 },
 "nbformat": 4,
 "nbformat_minor": 4
}
