{
 "cells": [
  {
   "cell_type": "code",
   "execution_count": 2,
   "metadata": {},
   "outputs": [],
   "source": [
    "import recurrence"
   ]
  },
  {
   "cell_type": "markdown",
   "metadata": {},
   "source": [
    "# Random Fibonacci\n",
    "\n",
    "This is a project based on [the youtube video on the same topic](https://www.youtube.com/watch?v=ELA8gNNMHoU).\n",
    "\n",
    "## The Original Fibonacci\n",
    "\n",
    "The fibonacci sequence is a sequence of integers F where:\n",
    "\n",
    "- F<sub>0</sub> = F<sub>1</sub> = 1.\n",
    "- F<sub>n</sub> = F<sub>n - 1</sub> + F<sub>n - 2</sub> for n ≥ 2.\n"
   ]
  },
  {
   "cell_type": "code",
   "execution_count": 3,
   "metadata": {},
   "outputs": [
    {
     "name": "stdout",
     "output_type": "stream",
     "text": [
      "The first 10 fibonacci numbers are: 1, 1, 2, 3, 5, 8, 13, 21, 34, and 55."
     ]
    }
   ],
   "source": [
    "def fibonacciRelation(fibonacci, n):\n",
    "    return fibonacci[n - 1] + fibonacci[n - 2]\n",
    "\n",
    "fibonacci = recurrence.Relation(fibonacciRelation, [1, 1])\n",
    "\n",
    "print(\n",
    "    'The first 10 fibonacci numbers are:',\n",
    "    ', '.join([str(fibonacci[i]) for i in range(9)]),\n",
    "    end=', and {}.'.format(fibonacci[9])\n",
    ")"
   ]
  },
  {
   "cell_type": "markdown",
   "metadata": {},
   "source": [
    "## Subtraction\n",
    "\n",
    "Instead of always adding the (n - 2)<sup>th</sup> to the (n - 1)<sup>th</sup> value, we could subtract it instead."
   ]
  },
  {
   "cell_type": "code",
   "execution_count": 4,
   "metadata": {},
   "outputs": [
    {
     "name": "stdout",
     "output_type": "stream",
     "text": [
      "The first 10 subtraction numbers are: 1, 1, 0, -1, -1, 0, 1, 1, 0, and -1."
     ]
    }
   ],
   "source": [
    "def subtraction(subtract, n):\n",
    "    return subtract[n - 1] - subtract[n - 2]\n",
    "\n",
    "subtract = recurrence.Relation(subtraction, [1, 1])\n",
    "\n",
    "print(\n",
    "    'The first 10 subtraction numbers are:',\n",
    "    ', '.join([str(subtract[i]) for i in range(9)]),\n",
    "    end=', and {}.'.format(subtract[9])\n",
    ")"
   ]
  },
  {
   "cell_type": "markdown",
   "metadata": {},
   "source": [
    "You may notice that the 7<sup>th</sup> and 8<sup>th</sup> values are equal to the 1<sup>st</sup> and 2<sup>nd</sup> values; since the next value of the sequence only depends on the two previous, this is enough for us to simplify our definition:"
   ]
  },
  {
   "cell_type": "code",
   "execution_count": 7,
   "metadata": {},
   "outputs": [
    {
     "name": "stdout",
     "output_type": "stream",
     "text": [
      "The first 10 subtraction numbers without recurrence are: 1, 1, 0, -1, -1, 0, 1, 1, 0, and -1."
     ]
    }
   ],
   "source": [
    "def subtraction(n):\n",
    "    \"\"\"A definition of our subtraction relation without recurrence\"\"\"\n",
    "    gimme = n % 6\n",
    "    if gimme == 0 or gimme == 1:\n",
    "        return 1\n",
    "    elif gimme == 3 or gimme == 4:\n",
    "        return -1\n",
    "    return 0\n",
    "\n",
    "print(\n",
    "    'The first 10 subtraction numbers without recurrence are:',\n",
    "    ', '.join([str(subtraction(i)) for i in range(9)]),\n",
    "    end=', and {}.'.format(subtract[9])\n",
    ")"
   ]
  },
  {
   "cell_type": "markdown",
   "metadata": {},
   "source": [
    "## Alternation\n",
    "\n",
    "We could have a pattern of add or subtract, alternating between them each time:"
   ]
  },
  {
   "cell_type": "code",
   "execution_count": 10,
   "metadata": {},
   "outputs": [
    {
     "name": "stdout",
     "output_type": "stream",
     "text": [
      "The first 20 alternation numbers are: 1, 1, 0, 1, 1, 2, 1, 3, 2, 5, 3, 8, 5, 13, 8, 21, 13, 34, 21, and 55."
     ]
    }
   ],
   "source": [
    "def alternation(alternate, n):\n",
    "    if n % 2 == 1:\n",
    "        return alternate[n - 1] + alternate[n - 2]\n",
    "    else:\n",
    "        return alternate[n - 1] - alternate[n - 2]\n",
    "\n",
    "alternate = recurrence.Relation(alternation, [1, 1])\n",
    "\n",
    "print(\n",
    "    'The first 20 alternation numbers are:',\n",
    "    ', '.join([str(alternate[i]) for i in range(19)]),\n",
    "    end=', and {}.'.format(alternate[19])\n",
    ")"
   ]
  }
 ],
 "metadata": {
  "kernelspec": {
   "display_name": "Python 3",
   "language": "python",
   "name": "python3"
  },
  "language_info": {
   "codemirror_mode": {
    "name": "ipython",
    "version": 3
   },
   "file_extension": ".py",
   "mimetype": "text/x-python",
   "name": "python",
   "nbconvert_exporter": "python",
   "pygments_lexer": "ipython3",
   "version": "3.7.3"
  }
 },
 "nbformat": 4,
 "nbformat_minor": 4
}
