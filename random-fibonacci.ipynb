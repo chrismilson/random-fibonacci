{
 "cells": [
  {
   "cell_type": "code",
   "execution_count": 1,
   "metadata": {},
   "outputs": [],
   "source": [
    "import recurrence"
   ]
  },
  {
   "cell_type": "markdown",
   "metadata": {},
   "source": [
    "# Random Fibonacci\n",
    "\n",
    "This is a project based on [the youtube video on the same topic](https://www.youtube.com/watch?v=ELA8gNNMHoU).\n",
    "\n",
    "## The Original Fibonacci\n",
    "\n",
    "The fibonacci sequence is a sequence of integers F where:\n",
    "\n",
    "- F<sub>0</sub> = F<sub>1</sub> = 1.\n",
    "- F<sub>n</sub> = F<sub>n - 1</sub> + F<sub>n - 2</sub> for n ≥ 2.\n"
   ]
  },
  {
   "cell_type": "code",
   "execution_count": 2,
   "metadata": {},
   "outputs": [],
   "source": [
    "def fibonacciRelation(fibonacci, n):\n",
    "    return fibonacci[n - 1] + fibonacci[n - 2]\n",
    "\n",
    "fibonacci = recurrence.Relation(fibonacciRelation, [1, 1])"
   ]
  },
  {
   "cell_type": "code",
   "execution_count": 3,
   "metadata": {
    "scrolled": true
   },
   "outputs": [
    {
     "name": "stdout",
     "output_type": "stream",
     "text": [
      "The first 10 fibonacci numbers are: 1, 1, 2, 3, 5, 8, 13, 21, 34, and 55."
     ]
    }
   ],
   "source": [
    "print(\n",
    "    'The first 10 fibonacci numbers are:',\n",
    "    ', '.join([str(fibonacci[i]) for i in range(9)]),\n",
    "    end=', and {}.'.format(fibonacci[9])\n",
    ")"
   ]
  },
  {
   "cell_type": "markdown",
   "metadata": {},
   "source": [
    "## Subtraction\n",
    "\n",
    "Instead of always adding the (n - 2)<sup>th</sup> to the (n - 1)<sup>th</sup> value, we could subtract it instead."
   ]
  },
  {
   "cell_type": "code",
   "execution_count": 4,
   "metadata": {},
   "outputs": [
    {
     "name": "stdout",
     "output_type": "stream",
     "text": [
      "The first 10 subtraction numbers are: 1, 1, 0, -1, -1, 0, 1, 1, 0, and -1."
     ]
    }
   ],
   "source": [
    "def subtraction(subtract, n):\n",
    "    return subtract[n - 1] - subtract[n - 2]\n",
    "\n",
    "subtract = recurrence.Relation(subtraction, [1, 1])\n",
    "\n",
    "print(\n",
    "    'The first 10 subtraction numbers are:',\n",
    "    ', '.join([str(subtract[i]) for i in range(9)]),\n",
    "    end=', and {}.'.format(subtract[9])\n",
    ")"
   ]
  },
  {
   "cell_type": "markdown",
   "metadata": {},
   "source": [
    "You may notice that the 7<sup>th</sup> and 8<sup>th</sup> values are equal to the 1<sup>st</sup> and 2<sup>nd</sup> values; since the next value of the sequence only depends on the two previous, this is enough for us to simplify our definition:"
   ]
  },
  {
   "cell_type": "code",
   "execution_count": 5,
   "metadata": {},
   "outputs": [
    {
     "name": "stdout",
     "output_type": "stream",
     "text": [
      "The first 10 subtraction numbers without recurrence are: 1, 1, 0, -1, -1, 0, 1, 1, 0, and -1."
     ]
    }
   ],
   "source": [
    "def subtraction(n):\n",
    "    \"\"\"A definition of our subtraction relation without recurrence\"\"\"\n",
    "    gimme = n % 6\n",
    "    if gimme == 0 or gimme == 1:\n",
    "        return 1\n",
    "    elif gimme == 3 or gimme == 4:\n",
    "        return -1\n",
    "    return 0\n",
    "\n",
    "print(\n",
    "    'The first 10 subtraction numbers without recurrence are:',\n",
    "    ', '.join([str(subtraction(i)) for i in range(9)]),\n",
    "    end=', and {}.'.format(subtract[9])\n",
    ")"
   ]
  },
  {
   "cell_type": "markdown",
   "metadata": {},
   "source": [
    "## Alternation\n",
    "\n",
    "We could have a pattern of add or subtract, alternating between them each time:"
   ]
  },
  {
   "cell_type": "code",
   "execution_count": 6,
   "metadata": {},
   "outputs": [
    {
     "name": "stdout",
     "output_type": "stream",
     "text": [
      "The first 20 alternation numbers are: 1, 1, 0, 1, 1, 2, 1, 3, 2, 5, 3, 8, 5, 13, 8, 21, 13, 34, 21, and 55."
     ]
    }
   ],
   "source": [
    "def alternation(alternate, n):\n",
    "    if n % 2 == 1:\n",
    "        return alternate[n - 1] + alternate[n - 2]\n",
    "    else:\n",
    "        return alternate[n - 1] - alternate[n - 2]\n",
    "\n",
    "alternate = recurrence.Relation(alternation, [1, 1])\n",
    "\n",
    "print(\n",
    "    'The first 20 alternation numbers are:',\n",
    "    ', '.join([str(alternate[i]) for i in range(19)]),\n",
    "    end=', and {}.'.format(alternate[19])\n",
    ")"
   ]
  },
  {
   "cell_type": "markdown",
   "metadata": {},
   "source": [
    "## Other patterns\n",
    "\n",
    "There are infinitely many patterns of adding and subtracting we could do; and each would coresspond to a binary sequence β (a sequence where each β<sub>n</sub> is one of two possible values - usually 0 or 1).\n",
    "\n",
    "We have some binary sequences here:"
   ]
  },
  {
   "cell_type": "code",
   "execution_count": 7,
   "metadata": {},
   "outputs": [],
   "source": [
    "# All the following methods define binary sequences\n",
    "\n",
    "def allOnes(n):\n",
    "    \"\"\"a binary sequence of all ones\"\"\"\n",
    "    return 1\n",
    "\n",
    "def allZeros(n):\n",
    "    \"\"\"a binary sequence of all zeros\"\"\"\n",
    "    return 0\n",
    "\n",
    "def oneZero(n):\n",
    "    \"\"\"a binary sequence alternating between zero and one\"\"\"\n",
    "    return n % 2\n",
    "\n",
    "def oneOneZero(n):\n",
    "    \"\"\"a binary sequence which repeats 0, 0, 1\"\"\"\n",
    "    if n % 3 == 2:\n",
    "        return 0\n",
    "    return 1\n",
    "\n",
    "def oneHundredOnesThenZero(n):\n",
    "    \"\"\"a binary sequence of one hundred ones followed by all zeros\"\"\"\n",
    "    if n < 100:\n",
    "        return 1\n",
    "    return 0"
   ]
  },
  {
   "cell_type": "markdown",
   "metadata": {},
   "source": [
    "And we can then use these binary sequences to define a special type of sequence, like fibonacci, that will add the previous values if the binary sequence is a 1 and subtract them otherwise. \n",
    "\n",
    "The binary sequence of all ones will just give us our original fibonacci.\n",
    "\n",
    "The sequence of all zeros will give us the subtraction series."
   ]
  },
  {
   "cell_type": "code",
   "execution_count": 8,
   "metadata": {},
   "outputs": [],
   "source": [
    "def relationFromBinary(binary):\n",
    "    def relation(sequence, n):\n",
    "        if binary(n) == 1:\n",
    "            return sequence[n - 1] + sequence[n - 2]\n",
    "        else:\n",
    "            return sequence[n - 1] - sequence[n - 2]\n",
    "    return relation"
   ]
  },
  {
   "cell_type": "code",
   "execution_count": 9,
   "metadata": {},
   "outputs": [],
   "source": [
    "# the original fibonacci\n",
    "# fibonacciFromBinary = recurrence.Relation(relationFromBinary(allOnes), [1, 1])"
   ]
  },
  {
   "cell_type": "code",
   "execution_count": 10,
   "metadata": {},
   "outputs": [],
   "source": [
    "# the subtract sequence\n",
    "# subtractFromBinary = recurrence.Relation(relationFromBinary(allZeros), [1, 1])"
   ]
  },
  {
   "cell_type": "code",
   "execution_count": 11,
   "metadata": {},
   "outputs": [],
   "source": [
    "# the alternating sequence\n",
    "# alternateFromBinary = recurrence.Relation(relationFromBinary(oneZero), [1, 1])"
   ]
  },
  {
   "cell_type": "code",
   "execution_count": 12,
   "metadata": {},
   "outputs": [
    {
     "name": "stdout",
     "output_type": "stream",
     "text": [
      "The first 200 numbers in the special combination sequence are:\n",
      "1,\n",
      "1,\n",
      "0,\n",
      "-1,\n",
      "-1,\n",
      "-2,\n",
      "-3,\n",
      "-1,\n",
      "2,\n",
      "3,\n",
      "5,\n",
      "8,\n",
      "13,\n",
      "5,\n",
      "-8,\n",
      "-13,\n",
      "-21,\n",
      "-34,\n",
      "-55,\n",
      "-21,\n",
      "34,\n",
      "55,\n",
      "89,\n",
      "144,\n",
      "233,\n",
      "89,\n",
      "-144,\n",
      "-233,\n",
      "-377,\n",
      "-610,\n",
      "-987,\n",
      "-377,\n",
      "610,\n",
      "987,\n",
      "1597,\n",
      "2584,\n",
      "4181,\n",
      "1597,\n",
      "-2584,\n",
      "-4181,\n",
      "-6765,\n",
      "-10946,\n",
      "-17711,\n",
      "-6765,\n",
      "10946,\n",
      "17711,\n",
      "28657,\n",
      "46368,\n",
      "75025,\n",
      "28657,\n",
      "-46368,\n",
      "-75025,\n",
      "-121393,\n",
      "-196418,\n",
      "-317811,\n",
      "-121393,\n",
      "196418,\n",
      "317811,\n",
      "514229,\n",
      "832040,\n",
      "1346269,\n",
      "514229,\n",
      "-832040,\n",
      "-1346269,\n",
      "-2178309,\n",
      "-3524578,\n",
      "-5702887,\n",
      "-2178309,\n",
      "3524578,\n",
      "5702887,\n",
      "9227465,\n",
      "14930352,\n",
      "24157817,\n",
      "9227465,\n",
      "-14930352,\n",
      "-24157817,\n",
      "-39088169,\n",
      "-63245986,\n",
      "-102334155,\n",
      "-39088169,\n",
      "63245986,\n",
      "102334155,\n",
      "165580141,\n",
      "267914296,\n",
      "433494437,\n",
      "165580141,\n",
      "-267914296,\n",
      "-433494437,\n",
      "-701408733,\n",
      "-1134903170,\n",
      "-1836311903,\n",
      "-701408733,\n",
      "1134903170,\n",
      "1836311903,\n",
      "2971215073,\n",
      "4807526976,\n",
      "7778742049,\n",
      "2971215073,\n",
      "-4807526976,\n",
      "-7778742049,\n",
      "-12586269025,\n",
      "-20365011074,\n",
      "-32951280099,\n",
      "-12586269025,\n",
      "20365011074,\n",
      "32951280099,\n",
      "53316291173,\n",
      "86267571272,\n",
      "139583862445,\n",
      "53316291173,\n",
      "-86267571272,\n",
      "-139583862445,\n",
      "-225851433717,\n",
      "-365435296162,\n",
      "-591286729879,\n",
      "-225851433717,\n",
      "365435296162,\n",
      "591286729879,\n",
      "956722026041,\n",
      "1548008755920,\n",
      "2504730781961,\n",
      "956722026041,\n",
      "-1548008755920,\n",
      "-2504730781961,\n",
      "-4052739537881,\n",
      "-6557470319842,\n",
      "-10610209857723,\n",
      "-4052739537881,\n",
      "6557470319842,\n",
      "10610209857723,\n",
      "17167680177565,\n",
      "27777890035288,\n",
      "44945570212853,\n",
      "17167680177565,\n",
      "-27777890035288,\n",
      "-44945570212853,\n",
      "-72723460248141,\n",
      "-117669030460994,\n",
      "-190392490709135,\n",
      "-72723460248141,\n",
      "117669030460994,\n",
      "190392490709135,\n",
      "308061521170129,\n",
      "498454011879264,\n",
      "806515533049393,\n",
      "308061521170129,\n",
      "-498454011879264,\n",
      "-806515533049393,\n",
      "-1304969544928657,\n",
      "-2111485077978050,\n",
      "-3416454622906707,\n",
      "-1304969544928657,\n",
      "2111485077978050,\n",
      "3416454622906707,\n",
      "5527939700884757,\n",
      "8944394323791464,\n",
      "14472334024676221,\n",
      "5527939700884757,\n",
      "-8944394323791464,\n",
      "-14472334024676221,\n",
      "-23416728348467685,\n",
      "-37889062373143906,\n",
      "-61305790721611591,\n",
      "-23416728348467685,\n",
      "37889062373143906,\n",
      "61305790721611591,\n",
      "99194853094755497,\n",
      "160500643816367088,\n",
      "259695496911122585,\n",
      "99194853094755497,\n",
      "-160500643816367088,\n",
      "-259695496911122585,\n",
      "-420196140727489673,\n",
      "-679891637638612258,\n",
      "-1100087778366101931,\n",
      "-420196140727489673,\n",
      "679891637638612258,\n",
      "1100087778366101931,\n",
      "1779979416004714189,\n",
      "2880067194370816120,\n",
      "4660046610375530309,\n",
      "1779979416004714189,\n",
      "-2880067194370816120,\n",
      "-4660046610375530309,\n",
      "-7540113804746346429,\n",
      "-12200160415121876738,\n",
      "-19740274219868223167,\n",
      "-7540113804746346429,\n",
      "12200160415121876738,\n",
      "19740274219868223167,\n",
      "31940434634990099905,\n",
      "51680708854858323072,\n",
      "83621143489848422977,\n",
      "31940434634990099905,\n",
      "-51680708854858323072,\n",
      "-83621143489848422977,\n",
      "-135301852344706746049,\n",
      "-218922995834555169026,\n",
      "-354224848179261915075, and\n",
      "-135301852344706746049."
     ]
    }
   ],
   "source": [
    "# a special combination sequence defined by the xor of two other sequences\n",
    "def specialBinary(n):\n",
    "    return oneZero(n) ^ oneOneZero(n)\n",
    "specialFromBinary = recurrence.Relation(relationFromBinary(specialBinary), [1, 1])\n",
    "\n",
    "print('The first 200 numbers in the special combination sequence are:')\n",
    "print(\n",
    "    ',\\n'.join([str(specialFromBinary[i]) for i in range(199)]),\n",
    "    end=', and\\n{}.'.format(specialFromBinary[199])\n",
    ")"
   ]
  },
  {
   "cell_type": "markdown",
   "metadata": {},
   "source": [
    "## Somthing New\n",
    "\n",
    "One thing that all of these sequences have in common is that they are deterministic: They are well defined and will be the same every time they are calculated.\n",
    "\n",
    "The process of flipping a coin will generate a sequence of heads and tails. "
   ]
  },
  {
   "cell_type": "code",
   "execution_count": 13,
   "metadata": {},
   "outputs": [],
   "source": [
    "from coinflip import coinflip"
   ]
  },
  {
   "cell_type": "code",
   "execution_count": 14,
   "metadata": {},
   "outputs": [
    {
     "name": "stdout",
     "output_type": "stream",
     "text": [
      "Simulating a 10 coinflips yields tails, tails, heads, tails, heads, heads, heads, heads, heads, heads."
     ]
    }
   ],
   "source": [
    "print('Simulating a 10 coinflips yields', ', '.join(coinflip() for i in range(10)), end='.')"
   ]
  }
 ],
 "metadata": {
  "kernelspec": {
   "display_name": "Python 3",
   "language": "python",
   "name": "python3"
  },
  "language_info": {
   "codemirror_mode": {
    "name": "ipython",
    "version": 3
   },
   "file_extension": ".py",
   "mimetype": "text/x-python",
   "name": "python",
   "nbconvert_exporter": "python",
   "pygments_lexer": "ipython3",
   "version": "3.7.3"
  }
 },
 "nbformat": 4,
 "nbformat_minor": 4
}
