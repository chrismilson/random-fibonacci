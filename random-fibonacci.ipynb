{
 "cells": [
  {
   "cell_type": "code",
   "execution_count": 1,
   "metadata": {},
   "outputs": [],
   "source": [
    "import recurrence"
   ]
  },
  {
   "cell_type": "markdown",
   "metadata": {},
   "source": [
    "# Random Fibonacci\n",
    "\n",
    "This is a project based on [the youtube video on the same topic](https://www.youtube.com/watch?v=ELA8gNNMHoU).\n",
    "\n",
    "## The Original Fibonacci\n",
    "\n",
    "The fibonacci sequence is a sequence of integers F<sub>n</sub> where:\n",
    "\n",
    "- F<sub>0</sub> = F<sub>1</sub> = 1.\n",
    "- F<sub>n</sub> = F<sub>n - 1</sub> + F<sub>n - 2</sub> for n ≥ 2.\n"
   ]
  },
  {
   "cell_type": "code",
   "execution_count": 2,
   "metadata": {},
   "outputs": [
    {
     "name": "stdout",
     "output_type": "stream",
     "text": [
      "The first 10 fibonacci numbers are: 1, 1, 2, 3, 5, 8, 13, 21, 34, and 55."
     ]
    }
   ],
   "source": [
    "def fibonacciRelation(fibonacci, n):\n",
    "    return fibonacci[n - 1] + fibonacci[n - 2]\n",
    "\n",
    "original = recurrence.Relation(fibonacciRelation, [1, 1])\n",
    "\n",
    "print(\n",
    "    'The first 10 fibonacci numbers are:',\n",
    "    ', '.join([str(original[i]) for i in range(9)]),\n",
    "    end=', and {}.'.format(original[9])\n",
    ")"
   ]
  },
  {
   "cell_type": "markdown",
   "metadata": {},
   "source": [
    "## Subtraction\n",
    "\n",
    "Instead of always adding the (n - 2)<sup>th</sup> to the (n - 1)<sup>th</sup> value, we could subtract it instead."
   ]
  },
  {
   "cell_type": "code",
   "execution_count": 3,
   "metadata": {},
   "outputs": [
    {
     "name": "stdout",
     "output_type": "stream",
     "text": [
      "The first 10 subtraction numbers are: 1, 1, 0, -1, -1, 0, 1, 1, 0, and -1."
     ]
    }
   ],
   "source": [
    "def subtractionRelation(subtractionFibonacci, n):\n",
    "    return subtractionFibonacci[n - 1] - subtractionFibonacci[n - 2]\n",
    "\n",
    "subtraction = recurrence.Relation(subtractionRelation, [1, 1])\n",
    "\n",
    "print(\n",
    "    'The first 10 subtraction numbers are:',\n",
    "    ', '.join([str(subtraction[i]) for i in range(9)]),\n",
    "    end=', and {}.'.format(subtraction[9])\n",
    ")"
   ]
  }
 ],
 "metadata": {
  "kernelspec": {
   "display_name": "Python 3",
   "language": "python",
   "name": "python3"
  },
  "language_info": {
   "codemirror_mode": {
    "name": "ipython",
    "version": 3
   },
   "file_extension": ".py",
   "mimetype": "text/x-python",
   "name": "python",
   "nbconvert_exporter": "python",
   "pygments_lexer": "ipython3",
   "version": "3.7.3"
  }
 },
 "nbformat": 4,
 "nbformat_minor": 4
}
